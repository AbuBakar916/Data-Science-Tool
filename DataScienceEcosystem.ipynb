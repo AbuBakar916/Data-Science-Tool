{
  "metadata": {
    "language_info": {
      "name": ""
    },
    "kernelspec": {
      "name": "python",
      "display_name": "Python (Pyodide)",
      "language": "python"
    }
  },
  "nbformat_minor": 4,
  "nbformat": 4,
  "cells": [
    {
      "cell_type": "markdown",
      "source": "Data Science Tools and Ecosystem\n\n",
      "metadata": {}
    },
    {
      "cell_type": "code",
      "source": "Data Science Tools and Ecosystem are summarized.",
      "metadata": {},
      "execution_count": null,
      "outputs": []
    },
    {
      "cell_type": "code",
      "source": "Some of the popular languages that Data Scientists use are:\n\n\nPython: Python is a versatile programming language that is widely used in data science. It is easy to learn and use, and it has a large and active community of developers. Python has a rich ecosystem of libraries and tools for data science, including NumPy, Pandas, Matplotlib, and Scikit-learn.\n\nR: R is a statistical programming language that is specifically designed for data analysis. It is a powerful language with a wide range of statistical functions and packages. R is also popular for data visualization, and it has a number of packages for creating high-quality graphics.\n\nSQL: SQL is the standard language for interacting with relational databases. It is used to query, insert, update, and delete data from databases. Data scientists often need to use SQL to access and manipulate data from databases, and it is an essential skill for any data scientist.",
      "metadata": {},
      "execution_count": null,
      "outputs": []
    },
    {
      "cell_type": "code",
      "source": "Some of the commonly used libraries used by Data Scientists include:\n\n1. NumPy: A fundamental library for scientific computing in Python.\n2. Pandas: A library for data analysis and manipulation.\n3. Matplotlib: A library for creating visualizations.",
      "metadata": {},
      "execution_count": null,
      "outputs": []
    },
    {
      "cell_type": "code",
      "source": "| Data Science Tools |\n|---|---|\n| Jupyter Notebook | An interactive notebook environment for coding and data visualization. |\n| RStudio | An integrated development environment (IDE) for the R programming language. |\n| Visual Studio Code | A code editor with support for various programming languages, including Python and R. |\n",
      "metadata": {},
      "execution_count": null,
      "outputs": []
    },
    {
      "cell_type": "code",
      "source": "### Evaluating Arithmetic Expressions in Python\n\nArithmetic expressions are essential building blocks for programming, allowing us to perform mathematical operations on numbers. Python provides various arithmetic operators, including addition (+), subtraction (-), multiplication (*), division (/), and exponentiation (**).\n\nBelow are a few examples of evaluating arithmetic expressions in Python:\n\n* **Addition:**\n```python\nsum = 10 + 5\nprint(sum)  # Output: 15\ndifference = 20 - 8\nprint(difference)  # Output: 12\nproduct = 3 * 4\nprint(product)  # Output: 12\nquotient = 16 / 2\nprint(quotient)  # Output: 8.0\npower = 2 ** 3\nprint(power)  # Output: 8\n\n\n\n",
      "metadata": {},
      "execution_count": null,
      "outputs": []
    },
    {
      "cell_type": "code",
      "source": "# This a simple arithmetic expression to multiply then add integers.\nresult = (3 * 4) + 5\nprint(result)\n17",
      "metadata": {},
      "execution_count": null,
      "outputs": []
    },
    {
      "cell_type": "code",
      "source": "# This will convert 200 minutes to hours by dividing by 60.\nhours = 200 / 60\nprint(hours)\n3.3333333333333335",
      "metadata": {},
      "execution_count": null,
      "outputs": []
    },
    {
      "cell_type": "code",
      "source": "**Objectives:**\n\n* Understand the fundamental concepts of data science.\n* Explore the popular programming languages used in data science.\n* Learn about common data science libraries and tools.\n* Practice evaluating arithmetic expressions in Python.\n* Convert minutes to hours using Python.\n",
      "metadata": {},
      "execution_count": null,
      "outputs": []
    },
    {
      "cell_type": "code",
      "source": "## Author\n\nAbuBakar\n",
      "metadata": {},
      "execution_count": null,
      "outputs": []
    }
  ]
}